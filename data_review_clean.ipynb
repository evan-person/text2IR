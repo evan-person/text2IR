{
 "cells": [
  {
   "cell_type": "code",
   "execution_count": 2,
   "metadata": {},
   "outputs": [],
   "source": [
    "file_dir = '../data/combinedWav/'"
   ]
  },
  {
   "cell_type": "code",
   "execution_count": 3,
   "metadata": {},
   "outputs": [],
   "source": [
    "import os\n",
    "import numpy as np\n",
    "import matplotlib.pyplot as plt\n",
    "import scipy.io.wavfile as wav\n",
    "import scipy.signal as signal\n",
    "import scipy.fftpack as fftpack\n",
    "import scipy.stats as stats\n",
    "import scipy.spatial.distance as distance\n",
    "import scipy.cluster.hierarchy as hierarchy\n",
    "import scipy.signal as signal\n",
    "import scipy.ndimage as ndimage\n",
    "\n",
    "\n",
    "def get_wav_files():\n",
    "    return [f for f in os.listdir(file_dir) if f.endswith('.wav')]\n",
    "\n",
    "def get_wav_data(file):\n",
    "    return wav.read(file_dir + file)\n",
    "\n",
    "def get_wav_data_by_name(name):\n",
    "    return wav.read(file_dir + name)\n",
    "\n",
    "def get_wav_data_by_index(index):\n",
    "    return get_wav_data(get_wav_files()[index])\n",
    "\n",
    "\n"
   ]
  },
  {
   "cell_type": "code",
   "execution_count": 16,
   "metadata": {},
   "outputs": [
    {
     "name": "stderr",
     "output_type": "stream",
     "text": [
      "/tmp/ipykernel_783802/3687763561.py:18: WavFileWarning: Incomplete chunk ID: b'\\x00\\x00', ignoring it.\n",
      "  return wav.read(file_dir + file)\n",
      "/tmp/ipykernel_783802/3687763561.py:18: WavFileWarning: Chunk (non-data) not understood, skipping it.\n",
      "  return wav.read(file_dir + file)\n"
     ]
    },
    {
     "name": "stdout",
     "output_type": "stream",
     "text": [
      "Unique sample rates: [48000, 44100]\n",
      "Unique lengths: [320001, 37377, 181251, 182787, 121858, 181259, 118802, 176146, 56345, 128027, 287264, 84000, 183330, 187944, 106029, 162350, 51761, 75827, 87096, 232505, 61502, 85568, 48705, 109634, 72771, 90694, 66632, 9802, 71243, 81996, 156238, 35921, 137810, 28755, 32852, 140886, 20570, 165979, 190045, 188517, 128101, 22634, 162923, 186989, 150126, 23154, 35444, 87669, 172664, 270456, 98938, 90750, 171136, 182405, 230537, 83085, 46222, 180877, 179349, 68760, 31897, 227481, 190618, 135324, 36000, 165024, 78501, 89770, 76973, 10414, 101039, 124085, 10422, 99511, 134846, 22719, 158912, 5312, 67272, 70861, 179922, 143059, 127206, 138472, 53480, 32492, 14061, 42733, 64749, 233211, 159485, 61693, 183551, 3327, 24830, 85759, 105734, 242952, 47368, 71434, 93972, 118038, 166170, 227099, 78119, 65322, 150317, 113454, 99129, 184124, 49469, 90434, 121667, 84804, 82756, 217931, 83276, 70479, 290129, 190809, 117083, 80220, 165215, 98658, 37221, 19302, 200550, 138603, 162159, 27504, 110589, 51570, 173428, 7030, 14711, 123768, 86905, 208763, 256895, 85377, 109443, 34692, 107915, 25996, 56717, 34189, 9624, 178585, 104859, 29598, 55199, 29605, 7087, 76209, 63412, 124341, 69557, 185270, 135610, 21439, 219072, 189378, 56783, 120278, 68569, 79838, 41447, 66536, 163305, 28654, 137711, 124914, 51188, 136183, 6141, 1534]\n",
      "Length statistics:\n",
      "Mean: 117745.94294294294\n",
      "Median: 104859.0\n",
      "Min: 1534\n",
      "Max: 320001\n",
      "Std: 74192.64405703521\n"
     ]
    },
    {
     "data": {
      "image/png": "[encoded data removed]",
      "text/plain": [
       "<Figure size 640x480 with 1 Axes>"
      ]
     },
     "metadata": {},
     "output_type": "display_data"
    }
   ],
   "source": [
    "# Load all wave files and measure their length and record the sample rate\n",
    "wav_files = get_wav_files()\n",
    "wav_data = [get_wav_data(f) for f in wav_files]\n",
    "wav_data_by_name = {f: get_wav_data(f) for f in wav_files}\n",
    "wav_data_by_index = {i: get_wav_data_by_index(i) for i in range(len(wav_files))}\n",
    "\n",
    "# Count unique sample rates\n",
    "sample_rates = [d[0] for d in wav_data]\n",
    "unique_sample_rates = list(set(sample_rates))\n",
    "print('Unique sample rates:', unique_sample_rates)\n",
    "\n",
    "# Count unique lengths\n",
    "lengths = [d[1].shape[0] for d in wav_data]\n",
    "unique_lengths = list(set(lengths))\n",
    "print('Unique lengths:', unique_lengths)\n",
    "\n",
    "#compute length statistics\n",
    "lengths = np.array(lengths)\n",
    "\n",
    "print('Length statistics:')\n",
    "print('Mean:', np.mean(lengths))\n",
    "print('Median:', np.median(lengths))\n",
    "print('Min:', np.min(lengths))\n",
    "print('Max:', np.max(lengths))\n",
    "print('Std:', np.std(lengths))\n",
    "\n",
    "# Plot histogram of lengths\n",
    "plt.hist(lengths, bins=20)\n",
    "plt.title('Histogram of lengths')\n",
    "plt.xlabel('Length')\n",
    "plt.ylabel('Count')\n",
    "plt.show()\n",
    "\n",
    "arbitrary_length = 100000\n",
    "arbitrary_sample_rate = 48000\n",
    "\n",
    "\n",
    "# Clean up file names and make into labels\n",
    "labels = [f.replace('R.wav', '') for f in wav_files]\n",
    "labels = [f.replace('L.wav', '') for f in labels]\n",
    "labels = [f.replace('.wav', '') for f in labels]\n",
    "# Remove 48k from the labels\n",
    "labels = [l.replace('48K', '') for l in labels]\n",
    "# Remove all numbers from the labels\n",
    "labels = [l.replace('0', '') for l in labels]\n",
    "labels = [l.replace('1', '') for l in labels]\n",
    "labels = [l.replace('2', '') for l in labels]\n",
    "labels = [l.replace('3', '') for l in labels]\n",
    "labels = [l.replace('4', '') for l in labels]\n",
    "labels = [l.replace('5', '') for l in labels]\n",
    "labels = [l.replace('6', '') for l in labels]\n",
    "labels = [l.replace('7', '') for l in labels]\n",
    "labels = [l.replace('8', '') for l in labels]\n",
    "labels = [l.replace('9', '') for l in labels]\n",
    "# Remove all symbols from the labels\n",
    "labels = [l.replace('_', ' ') for l in labels]\n",
    "labels = [l.replace('-', ' ') for l in labels] \n",
    "labels = [l.replace('(', ' ') for l in labels]\n",
    "labels = [l.replace(')', ' ') for l in labels]\n",
    "labels = [l.replace(',', ' ') for l in labels]\n",
    "\n",
    "# create dict of labels and file names\n",
    "label_dict = {f: labels[i] for i, f in enumerate(wav_files)}\n",
    "\n",
    "# Load all wav files and resample them to the same length and sample rate\n",
    "wav_data_resampled = {f: wav_data_by_name[f] for f in wav_files}\n",
    "\n",
    "for f in wav_files:\n",
    "    data = wav_data_resampled[f][1]\n",
    "    if len(data.shape) > 1:\n",
    "        data = data[:,0]\n",
    "    window = signal.windows.exponential(arbitrary_length,center=0, tau=-(arbitrary_length-1)/np.log(0.01),sym=False)\n",
    "    # rescale data to have range of 0 to 1\n",
    "    data = data/(2*np.max(np.abs(data))) + 0.5\n",
    "    if data.shape[0] < arbitrary_length:\n",
    "        #pad the signal with zeros and apply exponential window\n",
    "        wav_data_resampled[f] = (np.concatenate((data, np.zeros(arbitrary_length - data.shape[0])))*window)\n",
    "    elif data.shape[0] > arbitrary_length:\n",
    "        # apply exponential window to the truncated signal\n",
    "        wav_data_resampled[f] = (data[:arbitrary_length]*window)\n",
    "        \n",
    "\n",
    "\n",
    "# create dict of labels and resampled wav files\n",
    "labeled_wav_data_resampled = {label_dict[f]: wav_data_resampled[f] for f in wav_files}\n",
    "\n",
    "np.save('../data/labeled_wav_data_resampled.npy', labeled_wav_data_resampled)"
   ]
  },
  {
   "cell_type": "code",
   "execution_count": 19,
   "metadata": {},
   "outputs": [],
   "source": [
    "npy_file = '../data/labeled_wav_data_resampled.npy'\n",
    "dataset = np.load(npy_file, allow_pickle=True)\n",
    "labels = dataset.item().keys()\n",
    "data = np.array([dataset.item().get(label) for label in labels])\n",
    "data.shape"
   ]
  },
  {
   "cell_type": "code",
   "execution_count": 23,
   "metadata": {},
   "outputs": [
    {
     "data": {
      "image/png": "[encoded data removed]",
      "text/plain": [
       "<Figure size 640x480 with 1 Axes>"
      ]
     },
     "metadata": {},
     "output_type": "display_data"
    }
   ],
   "source": [
    "data_plot = data[0,:]\n",
    "\n",
    "plt.plot(data_plot)\n",
    "plt.show()\n",
    "\n"
   ]
  },
  {
   "cell_type": "code",
   "execution_count": null,
   "metadata": {},
   "outputs": [],
   "source": [
    "wav_data_resampled_by_index = {i: wav_data_resampled[f] for i, f in enumerate(wav_files)}"
   ]
  }
 ],
 "metadata": {
  "kernelspec": {
   "display_name": "Python 3",
   "language": "python",
   "name": "python3"
  },
  "language_info": {
   "codemirror_mode": {
    "name": "ipython",
    "version": 3
   },
   "file_extension": ".py",
   "mimetype": "text/x-python",
   "name": "python",
   "nbconvert_exporter": "python",
   "pygments_lexer": "ipython3",
   "version": "3.10.12"
  }
 },
 "nbformat": 4,
 "nbformat_minor": 2
}
